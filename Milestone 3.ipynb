{
 "cells": [
  {
   "cell_type": "code",
   "execution_count": 17,
   "metadata": {},
   "outputs": [],
   "source": [
    "import re\n",
    "import os.path\n",
    "import numpy as np\n",
    "import pandas as pd\n",
    "from datetime import datetime\n",
    "import matplotlib.pyplot as plt\n",
    "\n",
    "# DATA Path for BeerAdvocate\n",
    "DATA_FOLDER = 'Data/BeerAdvocate/'\n",
    "BEER_BA_DATA = DATA_FOLDER+\"beers.csv\"\n",
    "BREWERY_BA_DATA = DATA_FOLDER+\"breweries.csv\"\n",
    "USERS_BA_DATA = DATA_FOLDER+\"users.csv\"\n",
    "REVIEWS_BA_DATA = DATA_FOLDER+\"reviews.txt.gz\"\n",
    "RATINGS_BA_DATA = DATA_FOLDER+\"ratings.txt.gz\"\n",
    "\n",
    "COMPRESSION = 'gzip'\n"
   ]
  },
  {
   "cell_type": "code",
   "execution_count": 18,
   "metadata": {},
   "outputs": [],
   "source": [
    "labels = ['beer_name','beer_id','brewery_name','brewery_id','style','abv','date',\n",
    "          'user_name','user_id','appearance','aroma','palate','taste','overall','rating','text']"
   ]
  },
  {
   "cell_type": "code",
   "execution_count": 19,
   "metadata": {},
   "outputs": [],
   "source": [
    "review_ba = pd.read_pickle('Data/BeerAdvocate/review_ba.pkl')"
   ]
  },
  {
   "attachments": {},
   "cell_type": "markdown",
   "metadata": {},
   "source": [
    "## Sentiment analysis"
   ]
  },
  {
   "attachments": {},
   "cell_type": "markdown",
   "metadata": {},
   "source": [
    "In the <strong>Mileston 2</strong>, we observed that some beers have a marked seasonality. Many reviews contain words such as \"summer\", \"winter\", \"autumn\" or \"spring\", and we would like to push our analysis further :\n",
    "* Are those reviews more positive or negative towards the mentioned seasons\n",
    "* Can we grasp which words are used to qualify the beers in question, e.g does the beer feel warm, sour or bitter\n",
    "\n",
    "\n",
    "We are looking for words appearing rather frequently to describe a beer which is trendy during Christmas time for example. For that reason, we will conduct an <strong>aspect-based sentiment analysis</strong>.\n",
    "\n",
    "In order to do that, we will be looking at adjectives and their relative nouns to emphasize the beer's characteristics. That corresponds to <strong>adjectival modifiers</strong> mainly."
   ]
  },
  {
   "cell_type": "code",
   "execution_count": 7,
   "metadata": {},
   "outputs": [],
   "source": [
    "import spacy\n",
    "from spacytextblob.spacytextblob import SpacyTextBlob\n",
    "# import warnings\n",
    "# warnings.filterwarnings(\"ignore\")"
   ]
  },
  {
   "cell_type": "code",
   "execution_count": 8,
   "metadata": {},
   "outputs": [
    {
     "name": "stderr",
     "output_type": "stream",
     "text": [
      "c:\\Users\\baudo\\AppData\\Local\\Programs\\Python\\Python39\\lib\\site-packages\\spacy\\util.py:877: UserWarning: [W095] Model 'en_core_web_sm' (3.0.0) was trained with spaCy v3.0 and may not be 100% compatible with the current version (3.4.3). If you see errors or degraded performance, download a newer compatible model or retrain your custom model with the current spaCy version. For more details and available updates, run: python -m spacy validate\n",
      "  warnings.warn(warn_msg)\n"
     ]
    },
    {
     "data": {
      "text/plain": [
       "<spacytextblob.spacytextblob.SpacyTextBlob at 0x1f09ed6a2b0>"
      ]
     },
     "execution_count": 8,
     "metadata": {},
     "output_type": "execute_result"
    }
   ],
   "source": [
    "nlp = spacy.load('en_core_web_sm')\n",
    "nlp.add_pipe('spacytextblob')"
   ]
  },
  {
   "cell_type": "code",
   "execution_count": 218,
   "metadata": {},
   "outputs": [],
   "source": [
    "def analyze_sentiments(text: str) -> tuple([bool,list[str],list[str]]):\n",
    "    \"\"\"Analyze the review to determine wether it is positive or negative\n",
    "\n",
    "    Args:\n",
    "        text (str): The text to be analyzed\n",
    "\n",
    "    Returns:\n",
    "        sentiment: A boolean; true if the sentiment is positive, false otherwise\n",
    "        positive_words: the list of words assessed as positive by the nlp pipeline\n",
    "        negative_words: the list of words assessed as negative by the nlp pipeline\n",
    "    \"\"\"\n",
    "    doc = nlp(text)\n",
    "    sentiment = doc._.blob.polarity\n",
    "\n",
    "    positive_words, negative_words = [], []\n",
    "    for assess in doc._.blob.sentiment_assessments.assessments:\n",
    "        if assess[1] > 0:\n",
    "            positive_words.append(assess[0][0])\n",
    "        elif assess[1] < 0:\n",
    "            negative_words.append(assess[0][0])\n",
    "        else:\n",
    "            pass\n",
    "\n",
    "    return sentiment > 0, positive_words, negative_words\n"
   ]
  },
  {
   "cell_type": "code",
   "execution_count": 219,
   "metadata": {},
   "outputs": [],
   "source": [
    "# a small function to choose wich token should be kept as an aspect, and relevant for the description\n",
    "selected = lambda token : True if (token.dep_ == \"amod\" or token.dep_==\"compound\") and (token.pos_ == \"ADJ\" or token.pos_==\"ADV\") else False\n",
    "\n",
    "def get_aspects(text):\n",
    "    \"\"\"From several sentences, detect key aspects and their ajective qualifying the object in question\n",
    "\n",
    "    Args:\n",
    "        text (str): the text to be analyzed\n",
    "\n",
    "    Returns:\n",
    "        list (set): A list containing pairs of (aspect, description)\n",
    "    \"\"\"\n",
    "    aspects = []\n",
    "    for sentence in text.split(\".\"):\n",
    "        for token in nlp(sentence):\n",
    "            # if (token.dep_ == \"amod\" or token.dep_==\"compound\") and (token.pos_ == \"ADJ\" or token.pos_==\"NOUN\"):\n",
    "            if selected(token):\n",
    "                aspects.append({'aspect': token.head.text, 'description': token})    \n",
    "    return aspects "
   ]
  },
  {
   "attachments": {},
   "cell_type": "markdown",
   "metadata": {},
   "source": [
    "For now let's just focus on the reviews containing \"winter\"."
   ]
  },
  {
   "cell_type": "code",
   "execution_count": 214,
   "metadata": {},
   "outputs": [],
   "source": [
    "review_ba[\"winter\"]=review_ba['text'].apply(lambda x : int(bool(len(re.findall('winter',x.strip().lower())))))\n",
    "beer_winter_style=review_ba.loc[review_ba['winter'] == 1]\n",
    "beer_winter_style.reset_index(drop=True,inplace=True)"
   ]
  },
  {
   "cell_type": "code",
   "execution_count": 220,
   "metadata": {},
   "outputs": [
    {
     "name": "stdout",
     "output_type": "stream",
     "text": [
      "True\n"
     ]
    },
    {
     "data": {
      "text/plain": [
       "[{'aspect': 'bottles', 'description': other},\n",
       " {'aspect': 'beers', 'description': other},\n",
       " {'aspect': 'winters', 'description': smoothest},\n",
       " {'aspect': 'beers', 'description': other},\n",
       " {'aspect': 'hue', 'description': nice},\n",
       " {'aspect': 'nothing', 'description': strong},\n",
       " {'aspect': 'beer', 'description': strong},\n",
       " {'aspect': 'night', 'description': cold},\n",
       " {'aspect': 'choice', 'description': great},\n",
       " {'aspect': 'offerings', 'description': other},\n",
       " {'aspect': 'sip', 'description': enjoyable},\n",
       " {'aspect': 'sip', 'description': mellow}]"
      ]
     },
     "execution_count": 220,
     "metadata": {},
     "output_type": "execute_result"
    }
   ],
   "source": [
    "print(analyze_sentiments(beer_winter_style.text[76])[0])\n",
    "get_aspects(beer_winter_style.text[76]) # splitting the sentences according to punctuation"
   ]
  },
  {
   "cell_type": "code",
   "execution_count": 221,
   "metadata": {},
   "outputs": [
    {
     "data": {
      "text/plain": [
       "\" Purchased as part of the gift pack along with the two other bottles and glass, and now that the nights are cold, this fit in well with the season! This wasn't as dark or heavy as other winter beers that I've had but this had to be one of the smoothest winters I've ever tasted and like the other Innis and Gunn beers that I tried, the carbonation was so low that I wondered if this was beer or not. It's good to have something that stands out from the crowd!This had a nice mahogany-oak hue to it with not a lot of head or lacing to be seen. The aroma wasn't strong but there was some oak, vanilla, and booze in the smell and all of these were present in the taste as well. Just a hint of peat and charcoal too but nothing so strong as to be offensive. For a beer this strong, this went down well and had a bit of a bourbon feel in the aftertaste, since it was more sticky and not spicy like some rums that I've had. This was thick like rum but had a bit more of a warming effect than I anticipated. I pictured this as Winter Ale until I saw what category this fell under. Many would probably not pick this style for a cold and windy night but for the time of the year, this is a great choice. Like the other offerings from Innis and Gunn, it's nice to see something like this push the boundaries of what is considered beer and it's a bonus that this is so enjoyable sip by mellow sip.\""
      ]
     },
     "execution_count": 221,
     "metadata": {},
     "output_type": "execute_result"
    }
   ],
   "source": [
    "# just checking the text to see if the aspects and sentiments found above seem coherent\n",
    "beer_winter_style.text[76]"
   ]
  },
  {
   "attachments": {},
   "cell_type": "markdown",
   "metadata": {},
   "source": [
    "Let's build a dataframe regrouping the results of the function above for all the \"winter\" beers. This dataframe should contain :\n",
    "* a boolean indicating if the review shows appreciation or not towards the beer *is_positive* : 1 for True, 0 otherwise\n",
    "* a list of aspects characterising the beer, or the feeling of the reviewer *aspects*\n",
    "* for each aspects, some adjectives describing the effect of the aspect *describers*"
   ]
  },
  {
   "cell_type": "code",
   "execution_count": 223,
   "metadata": {},
   "outputs": [],
   "source": [
    "columns = [\"beer_id\", \"style\", \"is_positive\", \"aspects\", \"describers\"]"
   ]
  },
  {
   "cell_type": "code",
   "execution_count": null,
   "metadata": {},
   "outputs": [],
   "source": []
  }
 ],
 "metadata": {
  "kernelspec": {
   "display_name": "Python39",
   "language": "python",
   "name": "python3"
  },
  "language_info": {
   "codemirror_mode": {
    "name": "ipython",
    "version": 3
   },
   "file_extension": ".py",
   "mimetype": "text/x-python",
   "name": "python",
   "nbconvert_exporter": "python",
   "pygments_lexer": "ipython3",
   "version": "3.9.7"
  },
  "orig_nbformat": 4,
  "vscode": {
   "interpreter": {
    "hash": "55b5396de45fce55c86a25a1800de0973bbfa370acbcd693a10fd62ba7af76b9"
   }
  }
 },
 "nbformat": 4,
 "nbformat_minor": 2
}
