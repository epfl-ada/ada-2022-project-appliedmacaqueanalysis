{
 "cells": [
  {
   "cell_type": "code",
   "execution_count": 111,
   "metadata": {},
   "outputs": [
    {
     "data": {
      "text/plain": [
       "<spacytextblob.spacytextblob.SpacyTextBlob at 0x24190c6cc40>"
      ]
     },
     "execution_count": 111,
     "metadata": {},
     "output_type": "execute_result"
    }
   ],
   "source": [
    "import re\n",
    "import os.path\n",
    "import numpy as np\n",
    "import pandas as pd\n",
    "from datetime import datetime\n",
    "import matplotlib.pyplot as plt\n",
    "import spacy\n",
    "from spacytextblob.spacytextblob import SpacyTextBlob\n",
    "from statsmodels.tsa.seasonal import seasonal_decompose\n",
    "\n",
    "from tqdm import tqdm\n",
    "tqdm.pandas()\n",
    "# import warnings\n",
    "# warnings.filterwarnings(\"ignore\")\n",
    "\n",
    "# DATA Path for BeerAdvocate\n",
    "DATA_FOLDER = 'Data/BeerAdvocate/'\n",
    "BEER_BA_DATA = DATA_FOLDER+\"beers.csv\"\n",
    "BREWERY_BA_DATA = DATA_FOLDER+\"breweries.csv\"\n",
    "USERS_BA_DATA = DATA_FOLDER+\"users.csv\"\n",
    "REVIEWS_BA_DATA = DATA_FOLDER+\"reviews.txt.gz\"\n",
    "RATINGS_BA_DATA = DATA_FOLDER+\"ratings.txt.gz\"\n",
    "\n",
    "COMPRESSION = 'gzip'\n",
    "\n",
    "nlp = spacy.load('en_core_web_sm')\n",
    "nlp.add_pipe('spacytextblob')\n"
   ]
  },
  {
   "cell_type": "code",
   "execution_count": 2,
   "metadata": {},
   "outputs": [],
   "source": [
    "review_ba = pd.read_pickle('Data/BeerAdvocate/review_ba.pkl')"
   ]
  },
  {
   "attachments": {},
   "cell_type": "markdown",
   "metadata": {},
   "source": [
    "## Selecting seasonal Christmas beers"
   ]
  },
  {
   "attachments": {},
   "cell_type": "markdown",
   "metadata": {},
   "source": [
    "The beers we are interested in are the beers having a seasonality (meaning that there are more popular at one precise point of the year throughout multiple years), and especially the popular ones during Christmas."
   ]
  },
  {
   "cell_type": "code",
   "execution_count": 24,
   "metadata": {},
   "outputs": [],
   "source": [
    "def season(data,j,id_name, name,nbr_rev):\n",
    "    \n",
    "    output = pd.DataFrame(np.nan, index=[j], columns=[name,'max_month','max_season','min_month','min_season','nbr_review'])\n",
    "    output[name] = id_name\n",
    "    output['nbr_review'] = nbr_rev\n",
    "    \n",
    "    if len(data)<24: #remove data with less than 2 years values\n",
    "        return(output)\n",
    "    \n",
    "    else:\n",
    "        #decompose seasonnality of reviews\n",
    "        decompose_result_mult = seasonal_decompose(data, model=\"multiplicative\", period=12)\n",
    "        seasonal = decompose_result_mult.seasonal\n",
    "        trend = decompose_result_mult.trend\n",
    "        \n",
    "        #remove beers that have less than 5 reviews over their most reviewed month of the year\n",
    "        max_review_per_month_year = pd.DataFrame(trend).groupby(pd.Grouper(freq='1Y')).max().dropna()\n",
    "        if sum(max_review_per_month_year['trend']<3)>0:\n",
    "            return(output)\n",
    "\n",
    "        \n",
    "        # Maximum review period\n",
    "        buffer_max = pd.DataFrame()\n",
    "        largest_season = seasonal.nlargest(1, keep='all') #find max values\n",
    "        buffer_max['date'] = largest_season.index  # find time \n",
    "        buffer_max['date'] = pd.to_datetime(buffer_max['date']) \n",
    "        output['max_month'] = buffer_max['date'].dt.month.median() #median of months\n",
    "        output['max_season'] = seasonal.max()\n",
    "            \n",
    "        # Minimum review period\n",
    "        buffer_min = pd.DataFrame()\n",
    "        smallest_season = seasonal.nsmallest(1, keep='all') #find max values\n",
    "        buffer_min['date'] = smallest_season.index  # find time\n",
    "        buffer_min['date'] = pd.to_datetime(buffer_min['date']) \n",
    "        output['min_month'] = buffer_min['date'].dt.month.median() #median of months\n",
    "        output['min_season'] = seasonal.min()\n",
    "        \n",
    "        return(output)"
   ]
  },
  {
   "cell_type": "code",
   "execution_count": 25,
   "metadata": {},
   "outputs": [],
   "source": [
    "beer_styles = review_ba['style'].unique() # finds each beer style\n",
    "review_ba['date'] = pd.to_datetime(review_ba['date'], unit='s')\n",
    "style_season_ba = pd.DataFrame(columns = ['style','max_month','max_season','min_month','min_season','nbr_review'])\n",
    "for j in range(len(beer_styles)):\n",
    "    beer = pd.DataFrame()\n",
    "    beer = review_ba[(review_ba['style'] == beer_styles[j])] # gets reviews of the given style\n",
    "    beer.set_index('date', inplace=True)\n",
    "    nbr_rev = len(beer)\n",
    "    beer = beer.groupby(pd.Grouper(freq='M'))['text'].count().reset_index(name='Count')\n",
    "    beer = beer.iloc[beer.loc[beer['Count'] >= 10].index[0]:]\n",
    "    beer.rename(columns={'Count' :''}, inplace=True)\n",
    "    beer.set_index('date', inplace=True)\n",
    "    beer.replace(0,1,inplace=True)\n",
    "    style_season_ba = pd.concat([style_season_ba, season(beer,j,beer_styles[j],'style',nbr_rev)], ignore_index=False)\n",
    "style_season_ba = style_season_ba.dropna()"
   ]
  },
  {
   "cell_type": "code",
   "execution_count": 27,
   "metadata": {},
   "outputs": [],
   "source": [
    "filtered_style_season_ba = style_season_ba[style_season_ba['max_season']>1.3] # safety threshold\n",
    "filtered_style_season_ba = filtered_style_season_ba[filtered_style_season_ba['nbr_review']>500] # removing noise"
   ]
  },
  {
   "cell_type": "code",
   "execution_count": 42,
   "metadata": {},
   "outputs": [],
   "source": [
    "december_ba = filtered_style_season_ba[filtered_style_season_ba['max_month'] == 12] # taking only the december-seasoned beers\n",
    "december_ba = december_ba.reset_index(drop=True)\n",
    "july_ba = filtered_style_season_ba[filtered_style_season_ba['max_month'] == 7] # july-seasoned beers for comparison\n",
    "july_ba = july_ba.reset_index(drop=True)"
   ]
  },
  {
   "cell_type": "code",
   "execution_count": 43,
   "metadata": {},
   "outputs": [
    {
     "data": {
      "text/html": [
       "<div>\n",
       "<style scoped>\n",
       "    .dataframe tbody tr th:only-of-type {\n",
       "        vertical-align: middle;\n",
       "    }\n",
       "\n",
       "    .dataframe tbody tr th {\n",
       "        vertical-align: top;\n",
       "    }\n",
       "\n",
       "    .dataframe thead th {\n",
       "        text-align: right;\n",
       "    }\n",
       "</style>\n",
       "<table border=\"1\" class=\"dataframe\">\n",
       "  <thead>\n",
       "    <tr style=\"text-align: right;\">\n",
       "      <th></th>\n",
       "      <th>beer_name</th>\n",
       "      <th>max_month</th>\n",
       "      <th>max_season</th>\n",
       "      <th>min_month</th>\n",
       "      <th>min_season</th>\n",
       "      <th>nbr_review</th>\n",
       "    </tr>\n",
       "  </thead>\n",
       "  <tbody>\n",
       "    <tr>\n",
       "      <th>14630</th>\n",
       "      <td>Christmas Ale</td>\n",
       "      <td>12.0</td>\n",
       "      <td>5.289947</td>\n",
       "      <td>9.0</td>\n",
       "      <td>0.101084</td>\n",
       "      <td>707</td>\n",
       "    </tr>\n",
       "    <tr>\n",
       "      <th>1881</th>\n",
       "      <td>Samuel Adams Old Fezziwig Ale</td>\n",
       "      <td>12.0</td>\n",
       "      <td>4.004037</td>\n",
       "      <td>8.0</td>\n",
       "      <td>0.089006</td>\n",
       "      <td>1405</td>\n",
       "    </tr>\n",
       "    <tr>\n",
       "      <th>7531</th>\n",
       "      <td>Tröegs The Mad Elf</td>\n",
       "      <td>12.0</td>\n",
       "      <td>3.301245</td>\n",
       "      <td>9.0</td>\n",
       "      <td>0.15003</td>\n",
       "      <td>1271</td>\n",
       "    </tr>\n",
       "    <tr>\n",
       "      <th>101</th>\n",
       "      <td>Samuel Adams Winter Lager</td>\n",
       "      <td>12.0</td>\n",
       "      <td>3.715739</td>\n",
       "      <td>9.0</td>\n",
       "      <td>0.038102</td>\n",
       "      <td>1985</td>\n",
       "    </tr>\n",
       "  </tbody>\n",
       "</table>\n",
       "</div>"
      ],
      "text/plain": [
       "                            beer_name max_month max_season min_month  \\\n",
       "14630                   Christmas Ale      12.0   5.289947       9.0   \n",
       "1881    Samuel Adams Old Fezziwig Ale      12.0   4.004037       8.0   \n",
       "7531               Tröegs The Mad Elf      12.0   3.301245       9.0   \n",
       "101         Samuel Adams Winter Lager      12.0   3.715739       9.0   \n",
       "\n",
       "      min_season nbr_review  \n",
       "14630   0.101084        707  \n",
       "1881    0.089006       1405  \n",
       "7531     0.15003       1271  \n",
       "101     0.038102       1985  "
      ]
     },
     "execution_count": 43,
     "metadata": {},
     "output_type": "execute_result"
    }
   ],
   "source": [
    "seasonal_beer_ba = pd.DataFrame(columns = ['beer_name','max_month','max_season','min_month','min_season','nbr_review'])\n",
    "\n",
    "for j in range(len(december_ba)):\n",
    "    beer = review_ba[(review_ba['style'] == december_ba['style'][j])] # gets reviews of the given style\n",
    "    names_beer_ba = beer['beer_name'].unique()\n",
    "    \n",
    "    for k in range(len(names_beer_ba)):\n",
    "        beer_ind = beer[(beer['beer_name'] == names_beer_ba[k])]\n",
    "        beer_id = int(beer_ind['beer_id'].unique()[0])\n",
    "        nbr_rev = len(beer_ind)\n",
    "        beer_ind.set_index('date', inplace=True)\n",
    "        beer_ind = beer_ind.groupby(pd.Grouper(freq='M'))['text'].count().reset_index(name='Count')\n",
    "        n = beer_ind.loc[beer_ind['Count'] >= 10]\n",
    "        if n.empty:\n",
    "            continue\n",
    "        beer_ind = beer_ind.iloc[beer_ind.loc[beer_ind['Count'] >= 10].index[0]:]\n",
    "        beer_ind.rename(columns={'Count' :''}, inplace=True)\n",
    "        beer_ind.set_index('date', inplace=True)\n",
    "        beer_ind.replace(0,0.01,inplace=True)\n",
    "        seasonal_beer_ba = pd.concat([seasonal_beer_ba, season(beer_ind,beer_id,names_beer_ba[k],'beer_name',nbr_rev)], ignore_index=False)\n",
    "        \n",
    "seasonal_beer_ba = seasonal_beer_ba.dropna()\n",
    "filtered_seasonal_beer_ba = seasonal_beer_ba[seasonal_beer_ba['max_season']>1.3]\n",
    "filtered_seasonal_beer_ba = filtered_seasonal_beer_ba[filtered_seasonal_beer_ba['nbr_review']>500]\n",
    "chritmas_beers = filtered_seasonal_beer_ba[filtered_seasonal_beer_ba['max_month'] == 12]\n",
    "chritmas_beers.head()"
   ]
  },
  {
   "cell_type": "code",
   "execution_count": 75,
   "metadata": {},
   "outputs": [
    {
     "data": {
      "text/html": [
       "<div>\n",
       "<style scoped>\n",
       "    .dataframe tbody tr th:only-of-type {\n",
       "        vertical-align: middle;\n",
       "    }\n",
       "\n",
       "    .dataframe tbody tr th {\n",
       "        vertical-align: top;\n",
       "    }\n",
       "\n",
       "    .dataframe thead th {\n",
       "        text-align: right;\n",
       "    }\n",
       "</style>\n",
       "<table border=\"1\" class=\"dataframe\">\n",
       "  <thead>\n",
       "    <tr style=\"text-align: right;\">\n",
       "      <th></th>\n",
       "      <th>beer_name</th>\n",
       "      <th>max_month</th>\n",
       "      <th>max_season</th>\n",
       "      <th>min_month</th>\n",
       "      <th>min_season</th>\n",
       "      <th>nbr_review</th>\n",
       "    </tr>\n",
       "  </thead>\n",
       "  <tbody>\n",
       "    <tr>\n",
       "      <th>113585</th>\n",
       "      <td>Hefeweizen</td>\n",
       "      <td>7.0</td>\n",
       "      <td>1.706209</td>\n",
       "      <td>11.0</td>\n",
       "      <td>0.569858</td>\n",
       "      <td>1885</td>\n",
       "    </tr>\n",
       "    <tr>\n",
       "      <th>48434</th>\n",
       "      <td>Sierra Nevada Kellerweis Hefeweizen</td>\n",
       "      <td>7.0</td>\n",
       "      <td>1.643195</td>\n",
       "      <td>11.0</td>\n",
       "      <td>0.606268</td>\n",
       "      <td>1376</td>\n",
       "    </tr>\n",
       "  </tbody>\n",
       "</table>\n",
       "</div>"
      ],
      "text/plain": [
       "                                   beer_name max_month max_season min_month  \\\n",
       "113585                            Hefeweizen       7.0   1.706209      11.0   \n",
       "48434    Sierra Nevada Kellerweis Hefeweizen       7.0   1.643195      11.0   \n",
       "\n",
       "       min_season nbr_review  \n",
       "113585   0.569858       1885  \n",
       "48434    0.606268       1376  "
      ]
     },
     "execution_count": 75,
     "metadata": {},
     "output_type": "execute_result"
    }
   ],
   "source": [
    "seasonal_beer_ba = pd.DataFrame(columns = ['beer_name','max_month','max_season','min_month','min_season','nbr_review'])\n",
    "\n",
    "for j in range(len(july_ba)):\n",
    "    beer = review_ba[(review_ba['style'] == july_ba['style'][j])] # gets reviews of the given style\n",
    "    names_beer_ba = beer['beer_name'].unique()\n",
    "    \n",
    "    for k in range(len(names_beer_ba)):\n",
    "        beer_ind = beer[(beer['beer_name'] == names_beer_ba[k])]\n",
    "        beer_id = int(beer_ind['beer_id'].unique()[0])\n",
    "        nbr_rev = len(beer_ind)\n",
    "        beer_ind.set_index('date', inplace=True)\n",
    "        beer_ind = beer_ind.groupby(pd.Grouper(freq='M'))['text'].count().reset_index(name='Count')\n",
    "        n = beer_ind.loc[beer_ind['Count'] >= 10]\n",
    "        if n.empty:\n",
    "            continue\n",
    "        beer_ind = beer_ind.iloc[beer_ind.loc[beer_ind['Count'] >= 10].index[0]:]\n",
    "        beer_ind.rename(columns={'Count' :''}, inplace=True)\n",
    "        beer_ind.set_index('date', inplace=True)\n",
    "        beer_ind.replace(0,0.01,inplace=True)\n",
    "        seasonal_beer_ba = pd.concat([seasonal_beer_ba, season(beer_ind,beer_id,names_beer_ba[k],'beer_name',nbr_rev)], ignore_index=False)\n",
    "        \n",
    "seasonal_beer_ba = seasonal_beer_ba.dropna()\n",
    "filtered_seasonal_beer_ba = seasonal_beer_ba[seasonal_beer_ba['max_season']>1.3]\n",
    "filtered_seasonal_beer_ba = filtered_seasonal_beer_ba[filtered_seasonal_beer_ba['nbr_review']>500]\n",
    "july_beers = filtered_seasonal_beer_ba[filtered_seasonal_beer_ba['max_month'] == 7]\n",
    "july_beers.head()"
   ]
  },
  {
   "cell_type": "code",
   "execution_count": 46,
   "metadata": {},
   "outputs": [],
   "source": [
    "christmas_reviews = review_ba.loc[review_ba[\"beer_name\"].isin(chritmas_beers[\"beer_name\"])]"
   ]
  },
  {
   "cell_type": "code",
   "execution_count": 79,
   "metadata": {},
   "outputs": [],
   "source": [
    "july_reviews = review_ba.loc[review_ba[\"beer_name\"].isin(july_beers[\"beer_name\"])]"
   ]
  },
  {
   "attachments": {},
   "cell_type": "markdown",
   "metadata": {},
   "source": [
    "## Sentiment analysis"
   ]
  },
  {
   "attachments": {},
   "cell_type": "markdown",
   "metadata": {},
   "source": [
    "In the <strong>Mileston 2</strong>, we observed that some beers have a marked seasonality. Many reviews contain words such as \"summer\", \"winter\", \"autumn\" or \"spring\", and we would like to push our analysis further :\n",
    "* Are those reviews more positive or negative towards the mentioned seasons\n",
    "* Can we grasp which words are used to qualify the beers in question, e.g does the beer feel warm, sour or bitter\n",
    "\n",
    "\n",
    "We are looking for words appearing rather frequently to describe a beer which is trendy during Christmas time for example. For that reason, we will conduct an <strong>aspect-based sentiment analysis</strong>.\n",
    "\n",
    "In order to do that, we will be looking at adjectives and their relative nouns to emphasize the beer's characteristics. That corresponds to <strong>adjectival modifiers</strong> mainly."
   ]
  },
  {
   "cell_type": "code",
   "execution_count": 3,
   "metadata": {},
   "outputs": [],
   "source": [
    "def analyze_sentiments(text: str) -> tuple([bool,list[str],list[str]]):\n",
    "    \"\"\"Analyze the review to determine wether it is positive or negative\n",
    "\n",
    "    Args:\n",
    "        text (str): The text to be analyzed\n",
    "\n",
    "    Returns:\n",
    "        sentiment: A boolean; true if the sentiment is positive, false otherwise\n",
    "    \"\"\"\n",
    "    return nlp(text)._.blob.polarity > 0\n"
   ]
  },
  {
   "cell_type": "code",
   "execution_count": 4,
   "metadata": {},
   "outputs": [],
   "source": [
    "# a small function to choose wich token should be kept as an aspect, and relevant for the description\n",
    "selected = lambda token : True if (token.dep_ == \"amod\" or token.dep_==\"compound\") and (token.pos_ == \"ADJ\" or token.pos_==\"ADV\") else False\n",
    "\n",
    "def get_aspects(text):\n",
    "    \"\"\"From several sentences, detect key aspects and their ajective qualifying the object in question\n",
    "\n",
    "    Args:\n",
    "        text (str): the text to be analyzed\n",
    "\n",
    "    Returns:\n",
    "        list (set): A list containing pairs of (aspect, description)\n",
    "    \"\"\"\n",
    "    aspects = []\n",
    "    for sentence in text.split(\".\"):\n",
    "        for token in nlp(sentence):\n",
    "            # if (token.dep_ == \"amod\" or token.dep_==\"compound\") and (token.pos_ == \"ADJ\" or token.pos_==\"NOUN\"):\n",
    "            if selected(token):\n",
    "                aspects.append({'aspect': token.head.text, 'description': token})    \n",
    "    # return {item['aspect'] for item in aspects}, {item['description'] for item in aspects} \n",
    "    return aspects\n"
   ]
  },
  {
   "attachments": {},
   "cell_type": "markdown",
   "metadata": {},
   "source": [
    "Let's build a dataframe regrouping the reviews of interest. This dataframe should contain :\n",
    "* a boolean indicating if the review shows appreciation or not towards the beer *is_positive* : 1 for True, 0 otherwise\n",
    "* a list of aspects characterising the beer, or the feeling of the reviewer *aspects*"
   ]
  },
  {
   "cell_type": "code",
   "execution_count": 112,
   "metadata": {},
   "outputs": [],
   "source": [
    "def build_aspects_dataset(reviews, sentiment=True):\n",
    "    \"\"\"Take a pd.DataFrame reviews, and return a dataframe containing the aspects of the reviews' text\n",
    "\n",
    "    Args:\n",
    "        reviews (pd.DataFrame): Several reviews; each review must contain an id, style and a text.\n",
    "        sentiment (boolean): Wether the analyzed reviews should be positive or negative toward the reviewed beer.\n",
    "\n",
    "    Returns:\n",
    "        pd.DataFrame: A dataframe containing the aspects involved in the reviews, with the words best qualifying them. \n",
    "    \"\"\"\n",
    "\n",
    "    # building a dataframe with the is_positive and the aspects\n",
    "    df = pd.DataFrame()\n",
    "    df[[\"beer_id\",\"style\"]] = reviews[[\"beer_id\",\"style\"]]\n",
    "    tqdm.pandas(desc=\"Analyzing the reviews' sentiment\")\n",
    "    df[\"is_positive\"] = reviews.text.progress_apply(lambda text: analyze_sentiments(text))\n",
    "    df = df[df['is_positive']==True]\n",
    "    tqdm.pandas(desc=\"Getting the reviews' aspects\")\n",
    "    df[\"aspects\"] = reviews.text.progress_apply(lambda text: get_aspects(text))\n",
    "    df.reset_index(inplace=True)\n",
    "    # formatting the aspects in a more convenient way\n",
    "    dicts = []\n",
    "    for i in range(len(df)):\n",
    "        new_dict = {item['aspect']:item['description'] for item in df[\"aspects\"][i]}\n",
    "        dicts.append(pd.DataFrame.from_dict(new_dict,columns=[\"descriptions\"],orient=\"index\"))\n",
    "    # building a new dataframe with only the aspects and the descriptions\n",
    "    aspects = pd.concat(dicts)\n",
    "    aspects[\"aspects\"] = aspects.index\n",
    "    aspects[\"index_column\"] = range(len(aspects))\n",
    "    aspects.index = aspects[\"index_column\"]\n",
    "    # regrouping the aspects dataframe by aspects and merging the words describing them\n",
    "    new_aspects = aspects.groupby('aspects')['descriptions'].apply(lambda x: ','.join(x.astype(str))).reset_index()\n",
    "    # filtering weird aspect caught to avoid numbers and weird characters\n",
    "    new_aspects[\"aspect_special\"]=new_aspects['aspects'].apply(lambda x : True if re.search(r'[^a-zA-Z]+',x) else False)\n",
    "    new_aspects = new_aspects[(new_aspects['aspect_special']==False)]\n",
    "    # sorting the dataframe by the most described aspects\n",
    "    new_aspects[\"descri_len\"] = new_aspects[\"descriptions\"].apply(lambda x: len(x.split(\",\")))\n",
    "    new_aspects.sort_values(by=\"descri_len\",ascending=False,inplace=True)\n",
    "    new_aspects.reset_index(inplace=True)\n",
    "    return new_aspects\n"
   ]
  },
  {
   "cell_type": "code",
   "execution_count": 113,
   "metadata": {},
   "outputs": [
    {
     "name": "stderr",
     "output_type": "stream",
     "text": [
      "Analyzing the reviews' sentiment: 100%|██████████| 6043/6043 [02:44<00:00, 36.65it/s]\n",
      "Getting the reviews' aspects: 100%|██████████| 6043/6043 [07:56<00:00, 12.68it/s]\n",
      "Analyzing the reviews' sentiment: 100%|██████████| 3294/3294 [01:23<00:00, 39.53it/s]\n",
      "Getting the reviews' aspects: 100%|██████████| 3294/3294 [04:05<00:00, 13.42it/s]\n"
     ]
    }
   ],
   "source": [
    "christmas_aspects = build_aspects_dataset(christmas_reviews)\n",
    "july_aspects = build_aspects_dataset(july_reviews)"
   ]
  },
  {
   "cell_type": "code",
   "execution_count": 85,
   "metadata": {},
   "outputs": [],
   "source": [
    "def top_characteristics(dataframe,nb_of_adjectives=3):\n",
    "    \"\"\"gives the top nb_of_characteristics for all aspects of the dataframe\n",
    "\n",
    "    Args:\n",
    "        dataframe (pd.DataFrame): the dataframe you want to extract the data from\n",
    "        nb_of_adjectives (int, optional): the number of yielded adjectives. Defaults to 3.\n",
    "\n",
    "    Returns:\n",
    "        List: List with the top adjectives of each aspect\n",
    "    \"\"\"\n",
    "    characteristics = []\n",
    "    for i in range(len(dataframe)):\n",
    "        MyList = [word.lower() for word in dataframe[\"descriptions\"][i].split(',')] # splitting by words\n",
    "        characteristics.append(sorted({i:MyList.count(i) for i in MyList}.items(),key=lambda x: x[1],reverse=True)[:nb_of_adjectives])\n",
    "    return characteristics\n",
    "\n",
    "def get_top_adjectives(dataframe,aspect,top=3):\n",
    "    \"\"\"Get the top adjectives of a certain aspect\n",
    "\n",
    "    Args:\n",
    "        dataframe (pd.DataFrame): the dataframe you want to extract the data from\n",
    "        aspect (str): the aspect you want to consider\n",
    "        top (int, optional): how much adjectives you want. Defaults to 3.\n",
    "\n",
    "    Returns:\n",
    "        List: the most used adjectives describing the aspect\n",
    "    \"\"\"\n",
    "    try:\n",
    "        target = dataframe[dataframe[\"aspects\"]==aspect]\n",
    "        adjectives = [word.lower() for word in target.descriptions.item().split(',')]\n",
    "        sorted_top = sorted({i:adjectives.count(i) for i in adjectives}.items(),key=lambda x: x[1],reverse=True)[:top]\n",
    "        return sorted_top\n",
    "    except:\n",
    "        raise ValueError(\"No such aspect identified in dataframe\")\n",
    "    "
   ]
  },
  {
   "cell_type": "code",
   "execution_count": null,
   "metadata": {},
   "outputs": [],
   "source": []
  }
 ],
 "metadata": {
  "kernelspec": {
   "display_name": "Python39",
   "language": "python",
   "name": "python3"
  },
  "language_info": {
   "codemirror_mode": {
    "name": "ipython",
    "version": 3
   },
   "file_extension": ".py",
   "mimetype": "text/x-python",
   "name": "python",
   "nbconvert_exporter": "python",
   "pygments_lexer": "ipython3",
   "version": "3.9.7"
  },
  "orig_nbformat": 4,
  "vscode": {
   "interpreter": {
    "hash": "55b5396de45fce55c86a25a1800de0973bbfa370acbcd693a10fd62ba7af76b9"
   }
  }
 },
 "nbformat": 4,
 "nbformat_minor": 2
}
